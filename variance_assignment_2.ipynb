{
 "cells": [
  {
   "cell_type": "code",
   "execution_count": 9,
   "metadata": {},
   "outputs": [
    {
     "name": "stdout",
     "output_type": "stream",
     "text": [
      "Mean of x & y \n",
      "3.0\n",
      "8.0\n",
      "Variance  x=\n",
      "10.0\n",
      "Covariance=\n",
      "10.0\n",
      "c=\n",
      "1.0\n",
      "m=\n",
      "5.0\n"
     ]
    }
   ],
   "source": [
    "import tensorflow as tf\n",
    "#import numpy as np\n",
    "x=[1,2,3,4,5]\n",
    "y=[6,7,8,9,10]\n",
    "\n",
    "mean_x=sum(x)/5\n",
    "mean_y=sum(y)/5\n",
    "print('Mean of x & y ')\n",
    "print(mean_x)\n",
    "print(mean_y)\n",
    "varx=0\n",
    "cov=0\n",
    "for i in range(0,5):\n",
    "    varx=varx+((x[i]-mean_x)*(x[i]-mean_x))\n",
    "    cov=cov+((x[i]-mean_x)*(y[i]-mean_y))\n",
    "print('Variance  x=')\n",
    "print(varx)\n",
    "#print(np.var(x))\n",
    "print('Covariance=')\n",
    "print(cov)\n",
    "c=cov/varx\n",
    "print(\"c=\")\n",
    "print(c)\n",
    "m=mean_y-c*mean_x\n",
    "print(\"m=\")\n",
    "print(m)"
   ]
  },
  {
   "cell_type": "code",
   "execution_count": null,
   "metadata": {
    "collapsed": true
   },
   "outputs": [],
   "source": []
  },
  {
   "cell_type": "code",
   "execution_count": null,
   "metadata": {
    "collapsed": true
   },
   "outputs": [],
   "source": []
  },
  {
   "cell_type": "code",
   "execution_count": null,
   "metadata": {
    "collapsed": true
   },
   "outputs": [],
   "source": []
  }
 ],
 "metadata": {
  "kernelspec": {
   "display_name": "Python 3",
   "language": "python",
   "name": "python3"
  },
  "language_info": {
   "codemirror_mode": {
    "name": "ipython",
    "version": 3
   },
   "file_extension": ".py",
   "mimetype": "text/x-python",
   "name": "python",
   "nbconvert_exporter": "python",
   "pygments_lexer": "ipython3",
   "version": "3.6.1"
  }
 },
 "nbformat": 4,
 "nbformat_minor": 2
}
